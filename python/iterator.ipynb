{
 "cells": [
  {
   "cell_type": "markdown",
   "metadata": {},
   "source": [
    "##  Iterator\n",
    "[코딩 대장](https://dojang.io/mod/page/view.php?id=2405)\n",
    "\n",
    "- 이터레이터(iterator)는 값을 차례대로 꺼낼 수 있는 객체(object)\n",
    "![](https://dojang.io/pluginfile.php/13952/mod_page/content/3/039001.png)\n",
    "- 시퀀스는 요소의 순서가 정해져있고 연속적으로 이어져 있어야 한다 $\\rightarrow$ 딕셔너리랑 세트는 시퀀스에 해당되지 않는다\n",
    "![](https://dojang.io/pluginfile.php/13952/mod_page/content/3/039002.png)"
   ]
  },
  {
   "cell_type": "code",
   "execution_count": 1,
   "metadata": {},
   "outputs": [
    {
     "name": "stdout",
     "output_type": "stream",
     "text": [
      "1\n",
      "2\n"
     ]
    }
   ],
   "source": [
    "dic = {1:[1,2,3],2:[3,4,5]}.__iter__()\n",
    "print(dic.__next__())\n",
    "print(dic.__next__())"
   ]
  },
  {
   "cell_type": "code",
   "execution_count": 2,
   "metadata": {},
   "outputs": [
    {
     "name": "stdout",
     "output_type": "stream",
     "text": [
      "1\n",
      "2\n",
      "3\n"
     ]
    }
   ],
   "source": [
    "it = iter([1,2,3])\n",
    "print(next(it))\n",
    "print(next(it))\n",
    "print(next(it))"
   ]
  },
  {
   "cell_type": "markdown",
   "metadata": {},
   "source": [
    "## 인덱스로 접근할 수 있는 이터레이터 만들기"
   ]
  },
  {
   "cell_type": "code",
   "execution_count": 3,
   "metadata": {},
   "outputs": [
    {
     "name": "stdout",
     "output_type": "stream",
     "text": [
      "이 배열의 0 인덱스에 저장된 값은 1이다\n"
     ]
    },
    {
     "data": {
      "text/plain": [
       "1"
      ]
     },
     "execution_count": 3,
     "metadata": {},
     "output_type": "execute_result"
    }
   ],
   "source": [
    "class Sample:\n",
    "\n",
    "    def __init__(self,arr):\n",
    "\n",
    "        self.arr = arr\n",
    "\n",
    "    def __getitem__(self,index):\n",
    "\n",
    "        print('이 배열의 {} 인덱스에 저장된 값은 {}이다'.format(index,self.arr[index]))\n",
    "\n",
    "        return self.arr[index]\n",
    "\n",
    "sample = Sample([1,2,3])\n",
    "sample[0]"
   ]
  }
 ],
 "metadata": {
  "kernelspec": {
   "display_name": "Python 3.9.13 64-bit",
   "language": "python",
   "name": "python3"
  },
  "language_info": {
   "codemirror_mode": {
    "name": "ipython",
    "version": 3
   },
   "file_extension": ".py",
   "mimetype": "text/x-python",
   "name": "python",
   "nbconvert_exporter": "python",
   "pygments_lexer": "ipython3",
   "version": "3.9.13"
  },
  "orig_nbformat": 4,
  "vscode": {
   "interpreter": {
    "hash": "b0fa6594d8f4cbf19f97940f81e996739fb7646882a419484c72d19e05852a7e"
   }
  }
 },
 "nbformat": 4,
 "nbformat_minor": 2
}
