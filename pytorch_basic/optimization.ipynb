{
 "cells": [
  {
   "cell_type": "code",
   "execution_count": 1,
   "metadata": {},
   "outputs": [],
   "source": [
    "import torch\n",
    "from torch.utils.data import DataLoader\n",
    "from torchvision.transforms import ToTensor\n",
    "from torchvision import datasets\n",
    "from torch import nn"
   ]
  },
  {
   "cell_type": "code",
   "execution_count": 2,
   "metadata": {},
   "outputs": [],
   "source": [
    "train_data = datasets.FashionMNIST(\n",
    "    root = 'data',\n",
    "    train = True,\n",
    "    transform = ToTensor(),\n",
    "    download = True\n",
    ")\n",
    "\n",
    "test_data = datasets.FashionMNIST(\n",
    "    root = 'data',\n",
    "    train = False,\n",
    "    download = True,\n",
    "    transform = ToTensor()\n",
    ")"
   ]
  },
  {
   "cell_type": "code",
   "execution_count": 3,
   "metadata": {},
   "outputs": [],
   "source": [
    "train_dataloader = DataLoader(train_data,batch_size=64)\n",
    "test_dataloader = DataLoader(test_data, batch_size=64)"
   ]
  },
  {
   "cell_type": "code",
   "execution_count": 4,
   "metadata": {},
   "outputs": [],
   "source": [
    "class NeuralNetwork(nn.Module):\n",
    "\n",
    "    def __init__(self):\n",
    "\n",
    "        super(NeuralNetwork, self).__init__()\n",
    "\n",
    "        self.flatten = nn.Flatten()\n",
    "        self.linear_relu_stack = nn.Sequential(\n",
    "            nn.Linear(28*28, 512),\n",
    "            nn.ReLU(),\n",
    "            nn.Linear(512, 512),\n",
    "            nn.ReLU(),\n",
    "            nn.Linear(512, 10),\n",
    "        )\n",
    "\n",
    "    def forward(self,x):\n",
    "\n",
    "        x = self.flatten(x)\n",
    "        logit = self.linear_relu_stack(x)\n",
    "\n",
    "        return logit"
   ]
  },
  {
   "cell_type": "code",
   "execution_count": 5,
   "metadata": {},
   "outputs": [],
   "source": [
    "learning_rate = 1e-3\n",
    "batch_size = 64\n",
    "epochs = 5"
   ]
  },
  {
   "cell_type": "code",
   "execution_count": 6,
   "metadata": {},
   "outputs": [],
   "source": [
    "model = NeuralNetwork()\n",
    "\n",
    "loss_fn = nn.CrossEntropyLoss()\n",
    "optimizer = torch.optim.SGD(model.parameters(), lr = learning_rate)"
   ]
  },
  {
   "cell_type": "code",
   "execution_count": 7,
   "metadata": {},
   "outputs": [],
   "source": [
    "def train_loop(train_dataloader,model,loss_fn,optimizer):\n",
    "\n",
    "    for batch,(X,y) in enumerate(train_dataloader):\n",
    "        pred = model(X)\n",
    "        loss = loss_fn(pred,y)\n",
    "\n",
    "        optimizer.zero_grad()\n",
    "        loss.backward()\n",
    "        optimizer.step()\n",
    "\n",
    "        if batch%100 == 0:\n",
    "            loss, current = loss.item(), batch*len(X)\n",
    "            print(round(loss,2),current)"
   ]
  },
  {
   "cell_type": "code",
   "execution_count": 8,
   "metadata": {},
   "outputs": [],
   "source": [
    "def test_loop(test_dataloader,model,loss_fn):\n",
    "\n",
    "    size = len(test_dataloader.dataset)   \n",
    "    num_batches = len(test_dataloader)\n",
    "    test_loss, correct = 0, 0\n",
    "\n",
    "    with torch.no_grad():\n",
    "        for X,y in test_dataloader:\n",
    "            pred = model(X)\n",
    "            test_loss += loss_fn(pred,y).item()\n",
    "            correct += (pred.argmax(dim=1)==y).type(torch.float).sum()    \n",
    "\n",
    "    test_loss /= num_batches\n",
    "    correct /= size\n",
    "    print(test_loss,correct)"
   ]
  },
  {
   "cell_type": "code",
   "execution_count": 9,
   "metadata": {},
   "outputs": [
    {
     "name": "stdout",
     "output_type": "stream",
     "text": [
      "0\n",
      "2.32 0\n",
      "2.3 6400\n",
      "2.28 12800\n",
      "2.26 19200\n",
      "2.26 25600\n",
      "2.23 32000\n",
      "2.23 38400\n",
      "2.21 44800\n",
      "2.21 51200\n",
      "2.17 57600\n",
      "-------------\n",
      "2.166122858458236 tensor(0.4920)\n",
      "1\n",
      "2.19 0\n",
      "2.17 6400\n",
      "2.12 12800\n",
      "2.12 19200\n",
      "2.08 25600\n",
      "2.03 32000\n",
      "2.05 38400\n",
      "1.98 44800\n",
      "1.99 51200\n",
      "1.9 57600\n",
      "-------------\n",
      "1.905637107424136 tensor(0.5740)\n",
      "2\n",
      "1.96 0\n",
      "1.91 6400\n",
      "1.81 12800\n",
      "1.83 19200\n",
      "1.73 25600\n",
      "1.68 32000\n",
      "1.69 38400\n",
      "1.6 44800\n",
      "1.63 51200\n",
      "1.51 57600\n",
      "-------------\n",
      "1.5310060172192832 tensor(0.6057)\n",
      "3\n",
      "1.61 0\n",
      "1.56 6400\n",
      "1.43 12800\n",
      "1.48 19200\n",
      "1.38 25600\n",
      "1.37 32000\n",
      "1.37 38400\n",
      "1.3 44800\n",
      "1.34 51200\n",
      "1.24 57600\n",
      "-------------\n",
      "1.258056957076099 tensor(0.6350)\n",
      "4\n",
      "1.35 0\n",
      "1.32 6400\n",
      "1.16 12800\n",
      "1.26 19200\n",
      "1.15 25600\n",
      "1.17 32000\n",
      "1.17 38400\n",
      "1.12 44800\n",
      "1.16 51200\n",
      "1.08 57600\n",
      "-------------\n",
      "1.0896934821153246 tensor(0.6541)\n"
     ]
    }
   ],
   "source": [
    "for t in range(epochs):\n",
    "    print(t)\n",
    "    train_loop(train_dataloader,model,loss_fn,optimizer)\n",
    "    print('-------------')\n",
    "    test_loop(train_dataloader,model,loss_fn)"
   ]
  },
  {
   "cell_type": "code",
   "execution_count": null,
   "metadata": {},
   "outputs": [],
   "source": []
  }
 ],
 "metadata": {
  "kernelspec": {
   "display_name": "Python 3.6.13 ('torch_env')",
   "language": "python",
   "name": "python3"
  },
  "language_info": {
   "codemirror_mode": {
    "name": "ipython",
    "version": 3
   },
   "file_extension": ".py",
   "mimetype": "text/x-python",
   "name": "python",
   "nbconvert_exporter": "python",
   "pygments_lexer": "ipython3",
   "version": "3.6.13"
  },
  "orig_nbformat": 4,
  "vscode": {
   "interpreter": {
    "hash": "4bfe05f1a196011102106d5bd70074121a1c67a46fdb0db61754306b5a2cee16"
   }
  }
 },
 "nbformat": 4,
 "nbformat_minor": 2
}
