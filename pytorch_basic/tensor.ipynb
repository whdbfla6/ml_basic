{
 "cells": [
  {
   "cell_type": "markdown",
   "metadata": {},
   "source": [
    "# pytorch tutorial\n",
    "\n",
    "[파이토치 시작하기](https://tutorials.pytorch.kr/beginner/basics/tensorqs_tutorial.html)"
   ]
  },
  {
   "cell_type": "code",
   "execution_count": 1,
   "metadata": {},
   "outputs": [],
   "source": [
    "import torch"
   ]
  },
  {
   "cell_type": "code",
   "execution_count": 2,
   "metadata": {},
   "outputs": [
    {
     "name": "stdout",
     "output_type": "stream",
     "text": [
      "tensor([[1., 1., 0.],\n",
      "        [0., 1., 0.],\n",
      "        [0., 1., 1.]])\n"
     ]
    }
   ],
   "source": [
    "t1 = torch.eye(3)\n",
    "t1[:,1] = 1\n",
    "print(t1)"
   ]
  },
  {
   "cell_type": "markdown",
   "metadata": {},
   "source": [
    "## cat"
   ]
  },
  {
   "cell_type": "code",
   "execution_count": 3,
   "metadata": {},
   "outputs": [
    {
     "name": "stdout",
     "output_type": "stream",
     "text": [
      "tensor([[1., 1., 0., 1., 1., 0., 1., 1., 0.],\n",
      "        [0., 1., 0., 0., 1., 0., 0., 1., 0.],\n",
      "        [0., 1., 1., 0., 1., 1., 0., 1., 1.]])\n",
      "tensor([[1., 1., 0.],\n",
      "        [0., 1., 0.],\n",
      "        [0., 1., 1.],\n",
      "        [1., 1., 0.],\n",
      "        [0., 1., 0.],\n",
      "        [0., 1., 1.],\n",
      "        [1., 1., 0.],\n",
      "        [0., 1., 0.],\n",
      "        [0., 1., 1.]])\n"
     ]
    }
   ],
   "source": [
    "# cat\n",
    "print(torch.cat([t1,t1,t1],dim=1))\n",
    "print(torch.cat([t1,t1,t1],dim=0))"
   ]
  },
  {
   "cell_type": "markdown",
   "metadata": {},
   "source": [
    "## stack"
   ]
  },
  {
   "cell_type": "code",
   "execution_count": 4,
   "metadata": {},
   "outputs": [
    {
     "name": "stdout",
     "output_type": "stream",
     "text": [
      "tensor([[1., 1., 0.],\n",
      "        [0., 1., 0.],\n",
      "        [0., 1., 1.]])\n",
      "tensor([[[1., 1., 0.],\n",
      "         [0., 1., 0.],\n",
      "         [0., 1., 1.]],\n",
      "\n",
      "        [[1., 1., 0.],\n",
      "         [0., 1., 0.],\n",
      "         [0., 1., 1.]],\n",
      "\n",
      "        [[1., 1., 0.],\n",
      "         [0., 1., 0.],\n",
      "         [0., 1., 1.]]])\n"
     ]
    }
   ],
   "source": [
    "# stack\n",
    "print(t1)\n",
    "print(torch.stack([t1,t1,t1],dim=0))"
   ]
  },
  {
   "cell_type": "code",
   "execution_count": 5,
   "metadata": {},
   "outputs": [
    {
     "name": "stdout",
     "output_type": "stream",
     "text": [
      "tensor([[1., 1., 0.],\n",
      "        [0., 1., 0.],\n",
      "        [0., 1., 1.]])\n",
      "tensor([[[1., 1., 0.],\n",
      "         [1., 1., 0.],\n",
      "         [1., 1., 0.]],\n",
      "\n",
      "        [[0., 1., 0.],\n",
      "         [0., 1., 0.],\n",
      "         [0., 1., 0.]],\n",
      "\n",
      "        [[0., 1., 1.],\n",
      "         [0., 1., 1.],\n",
      "         [0., 1., 1.]]])\n"
     ]
    }
   ],
   "source": [
    "print(t1)\n",
    "print(torch.stack([t1,t1,t1],dim=1))"
   ]
  },
  {
   "cell_type": "code",
   "execution_count": 6,
   "metadata": {},
   "outputs": [
    {
     "name": "stdout",
     "output_type": "stream",
     "text": [
      "tensor([[1., 1., 0.],\n",
      "        [0., 1., 0.],\n",
      "        [0., 1., 1.]])\n",
      "tensor([[[1., 1., 1.],\n",
      "         [1., 1., 1.],\n",
      "         [0., 0., 0.]],\n",
      "\n",
      "        [[0., 0., 0.],\n",
      "         [1., 1., 1.],\n",
      "         [0., 0., 0.]],\n",
      "\n",
      "        [[0., 0., 0.],\n",
      "         [1., 1., 1.],\n",
      "         [1., 1., 1.]]])\n"
     ]
    }
   ],
   "source": [
    "print(t1)\n",
    "print(torch.stack([t1,t1,t1],dim=2))"
   ]
  },
  {
   "cell_type": "markdown",
   "metadata": {},
   "source": [
    "## torch multiplication"
   ]
  },
  {
   "cell_type": "code",
   "execution_count": 7,
   "metadata": {},
   "outputs": [
    {
     "name": "stdout",
     "output_type": "stream",
     "text": [
      "tensor([1., 1., 1.])\n",
      "tensor([[1., 0., 0.],\n",
      "        [0., 1., 0.],\n",
      "        [0., 0., 1.]])\n"
     ]
    }
   ],
   "source": [
    "t1 = torch.eye(3)\n",
    "t2 = torch.ones(3)\n",
    "\n",
    "# 행렬 곱\n",
    "print(torch.matmul(t1,t2)) \n",
    "# 원소 곱\n",
    "print(torch.mul(t1,t2))"
   ]
  },
  {
   "cell_type": "markdown",
   "metadata": {},
   "source": [
    "## numpy 변환\n",
    "\n",
    "CPU 상의 텐서와 NumPy 배열은 메모리 공간을 공유하기 때문에, 하나를 변경하면 다른 하나도 변경됩니다."
   ]
  },
  {
   "cell_type": "code",
   "execution_count": 8,
   "metadata": {},
   "outputs": [
    {
     "name": "stdout",
     "output_type": "stream",
     "text": [
      "tensor([1., 1., 1.])\n",
      "[1. 1. 1.]\n"
     ]
    }
   ],
   "source": [
    "t1 = torch.ones(3)\n",
    "print(t1)\n",
    "print(t1.numpy())"
   ]
  }
 ],
 "metadata": {
  "kernelspec": {
   "display_name": "Python 3.6.13 ('torch_env')",
   "language": "python",
   "name": "python3"
  },
  "language_info": {
   "codemirror_mode": {
    "name": "ipython",
    "version": 3
   },
   "file_extension": ".py",
   "mimetype": "text/x-python",
   "name": "python",
   "nbconvert_exporter": "python",
   "pygments_lexer": "ipython3",
   "version": "3.6.13"
  },
  "orig_nbformat": 4,
  "vscode": {
   "interpreter": {
    "hash": "4bfe05f1a196011102106d5bd70074121a1c67a46fdb0db61754306b5a2cee16"
   }
  }
 },
 "nbformat": 4,
 "nbformat_minor": 2
}
